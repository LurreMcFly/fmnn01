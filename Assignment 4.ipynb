{
 "cells": [
  {
   "cell_type": "markdown",
   "metadata": {},
   "source": [
    "# Numerical Linear Algebra (FMNN01)\n",
    "__LTH Fall 2019__\n",
    "## Assignment 4\n",
    "__Jonas Lundgren__"
   ]
  },
  {
   "cell_type": "code",
   "execution_count": 1,
   "metadata": {},
   "outputs": [],
   "source": [
    "from scipy.linalg import qr, lu, svd, inv, hilbert, invhilbert\n",
    "import numpy as np\n",
    "import matplotlib.pyplot as plt"
   ]
  },
  {
   "cell_type": "markdown",
   "metadata": {},
   "source": [
    "We start by constructing a matirx __X__ of size $4\\times5$ of with rank 3."
   ]
  },
  {
   "cell_type": "code",
   "execution_count": 2,
   "metadata": {},
   "outputs": [
    {
     "name": "stdout",
     "output_type": "stream",
     "text": [
      "Matrix X :\n",
      " [[0.47288936 0.33811059 1.39338585 0.95816062 1.25760437]\n",
      " [0.1951277  0.13642007 0.46762341 0.61364138 0.52429056]\n",
      " [0.94129903 0.53286083 1.74989052 1.27717103 1.6322059 ]\n",
      " [0.93705805 0.52402269 1.68578736 1.26769428 1.58751471]]\n",
      "Rank of X : 3\n"
     ]
    }
   ],
   "source": [
    "U = np.random.random((4,4))\n",
    "V = np.random.random((5,5))\n",
    "P = np.array([[1,0,0,0,0],\n",
    "              [0,1,0,0,0],\n",
    "              [0,0,1,0,0],\n",
    "              [0,0,0,0,0]])\n",
    "X = U@P@V\n",
    "print(\"Matrix X :\\n\", X)\n",
    "print(\"Rank of X :\", np.linalg.matrix_rank(X))"
   ]
  },
  {
   "cell_type": "code",
   "execution_count": 3,
   "metadata": {},
   "outputs": [
    {
     "name": "stdout",
     "output_type": "stream",
     "text": [
      "Rank of X from QR: 3\n"
     ]
    }
   ],
   "source": [
    "def rank_by_qr(X):\n",
    "    Q,R = qr(X)\n",
    "    \n",
    "    m, n = np.shape(R)\n",
    "    zero_rows = np.array([np.allclose(R[i, :], np.zeros(n)) for i in range(m)])\n",
    "    \n",
    "    return sum(~zero_rows)\n",
    "\n",
    "print(\"Rank of X from QR:\", rank_by_qr(X))"
   ]
  },
  {
   "cell_type": "code",
   "execution_count": 4,
   "metadata": {},
   "outputs": [
    {
     "name": "stdout",
     "output_type": "stream",
     "text": [
      "Rank of X from LU: 3\n"
     ]
    }
   ],
   "source": [
    "def rank_by_lu(X):\n",
    "    P, L, U = lu(X)\n",
    "    \n",
    "    m, n = np.shape(U)\n",
    "    zero_rows = np.array([np.allclose(U[i, :], np.zeros(n)) for i in range(m)])\n",
    "    \n",
    "    return sum(~zero_rows)\n",
    "\n",
    "print(\"Rank of X from LU:\", rank_by_lu(X))"
   ]
  },
  {
   "cell_type": "code",
   "execution_count": 5,
   "metadata": {},
   "outputs": [
    {
     "name": "stdout",
     "output_type": "stream",
     "text": [
      "Rank of X from SVD: 3\n"
     ]
    }
   ],
   "source": [
    "def rank_by_svd(X):\n",
    "    U, S, Vt = svd(X)\n",
    "    \n",
    "    return sum(~np.isclose(S, 0))\n",
    "\n",
    "print(\"Rank of X from SVD:\", rank_by_svd(X))"
   ]
  },
  {
   "cell_type": "code",
   "execution_count": 6,
   "metadata": {},
   "outputs": [],
   "source": [
    "def kahan_matrix(theta = 1.2, n = 90):\n",
    "    s = np.sin(theta)\n",
    "    c = np.cos(theta)\n",
    "    \n",
    "    S = np.diag([s**i for i in range(n)])\n",
    "    R = np.triu(-c * np.ones([n,n]))\n",
    "    np.fill_diagonal(R, 1)\n",
    "    \n",
    "    return (S @ R).T @ (S @ R)"
   ]
  },
  {
   "cell_type": "code",
   "execution_count": 11,
   "metadata": {},
   "outputs": [
    {
     "name": "stdout",
     "output_type": "stream",
     "text": [
      "Rank from QR : 90\n",
      "Rank from LU : 90\n",
      "Rank from SVD : 89\n"
     ]
    }
   ],
   "source": [
    "K = kahan_matrix(theta = 1.2, n = 90)\n",
    "\n",
    "print(\"Rank from QR :\", rank_by_qr(K))\n",
    "print(\"Rank from LU :\", rank_by_lu(K))\n",
    "print(\"Rank from SVD :\", rank_by_svd(K))"
   ]
  },
  {
   "cell_type": "code",
   "execution_count": 12,
   "metadata": {},
   "outputs": [
    {
     "data": {
      "text/plain": [
       "89"
      ]
     },
     "execution_count": 12,
     "metadata": {},
     "output_type": "execute_result"
    }
   ],
   "source": [
    "np.linalg.matrix_rank(K)"
   ]
  },
  {
   "cell_type": "markdown",
   "metadata": {},
   "source": [
    "We can see that the different methods gives different results in terms of the rank of the matrix. Ultimately it comes down to what we consider to be a zero in the matrix. I've used the functions `numpy.isclose` and `numpy.allclose` to determine the rank both of which have a pre set tolorance of $10^{-8}$. If we were to increse the tolorance we would be less strict in what we would consider to be equal to 0 and therefore give a lower rank of the matrix. We see that in this case the function `np.linalg.matrix_rank` generated the same rank i.e. 89 as my implementation of calculating the rank using SVD while using LU and QR to determine the rank resulted in rank 90 of the Kahan matrix."
   ]
  },
  {
   "cell_type": "markdown",
   "metadata": {},
   "source": [
    "## Task 2"
   ]
  },
  {
   "cell_type": "code",
   "execution_count": null,
   "metadata": {},
   "outputs": [],
   "source": []
  }
 ],
 "metadata": {
  "kernelspec": {
   "display_name": "Python 3",
   "language": "python",
   "name": "python3"
  },
  "language_info": {
   "codemirror_mode": {
    "name": "ipython",
    "version": 3
   },
   "file_extension": ".py",
   "mimetype": "text/x-python",
   "name": "python",
   "nbconvert_exporter": "python",
   "pygments_lexer": "ipython3",
   "version": "3.7.4"
  }
 },
 "nbformat": 4,
 "nbformat_minor": 2
}
